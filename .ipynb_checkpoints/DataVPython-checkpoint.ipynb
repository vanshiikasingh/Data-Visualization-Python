{
 "cells": [
  {
   "cell_type": "code",
   "execution_count": 1,
   "metadata": {},
   "outputs": [],
   "source": [
    "import pandas as pd\n",
    "import matplotlib.pyplot as plt\n",
    "import json"
   ]
  },
  {
   "cell_type": "code",
   "execution_count": 3,
   "metadata": {},
   "outputs": [
    {
     "name": "stdout",
     "output_type": "stream",
     "text": [
      "        Month  Rainfall  Temperature\n",
      "0     January     1.650            7\n",
      "1    February     1.250           10\n",
      "2       March     1.940           15\n",
      "3       April     2.750           20\n",
      "4         May     2.750           25\n",
      "5        June     3.645           24\n",
      "6        July     5.500           30\n",
      "7      August     1.000           40\n",
      "8   September     1.300           33\n",
      "9     October     2.000           20\n",
      "10   November     0.500           32\n",
      "11   December     2.300           10\n"
     ]
    }
   ],
   "source": [
    "df = pd.read_json(\"rain.json\")\n",
    "print(df)"
   ]
  },
  {
   "cell_type": "code",
   "execution_count": null,
   "metadata": {},
   "outputs": [],
   "source": [
    "print(\"\")"
   ]
  }
 ],
 "metadata": {
  "kernelspec": {
   "display_name": "Python 3",
   "language": "python",
   "name": "python3"
  },
  "language_info": {
   "codemirror_mode": {
    "name": "ipython",
    "version": 3
   },
   "file_extension": ".py",
   "mimetype": "text/x-python",
   "name": "python",
   "nbconvert_exporter": "python",
   "pygments_lexer": "ipython3",
   "version": "3.7.6"
  }
 },
 "nbformat": 4,
 "nbformat_minor": 4
}
